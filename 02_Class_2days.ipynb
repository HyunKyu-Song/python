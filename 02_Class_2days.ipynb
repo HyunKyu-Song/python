{
 "cells": [
  {
   "cell_type": "markdown",
   "id": "a9d0c209",
   "metadata": {},
   "source": [
    "# 수업(2/10)"
   ]
  },
  {
   "cell_type": "markdown",
   "id": "85543045",
   "metadata": {},
   "source": [
    "### 문자열 연산하기"
   ]
  },
  {
   "cell_type": "code",
   "execution_count": 1,
   "id": "8abe9033",
   "metadata": {},
   "outputs": [
    {
     "name": "stdout",
     "output_type": "stream",
     "text": [
      "Hello! Python!\n"
     ]
    }
   ],
   "source": [
    "a = \"Hello! \"\n",
    "b = \"Python!\"\n",
    "print(a + b)"
   ]
  },
  {
   "cell_type": "code",
   "execution_count": 2,
   "id": "f11bbf27",
   "metadata": {},
   "outputs": [
    {
     "data": {
      "text/plain": [
       "'Hello! Hello! Hello! '"
      ]
     },
     "execution_count": 2,
     "metadata": {},
     "output_type": "execute_result"
    }
   ],
   "source": [
    "a * 3"
   ]
  },
  {
   "cell_type": "code",
   "execution_count": 3,
   "id": "989b807e",
   "metadata": {},
   "outputs": [
    {
     "data": {
      "text/plain": [
       "'263'"
      ]
     },
     "execution_count": 3,
     "metadata": {},
     "output_type": "execute_result"
    }
   ],
   "source": [
    "a = \"26\"\n",
    "b = \"3\"\n",
    "a + b"
   ]
  },
  {
   "cell_type": "code",
   "execution_count": 4,
   "id": "e966ab24",
   "metadata": {},
   "outputs": [
    {
     "data": {
      "text/plain": [
       "'262626'"
      ]
     },
     "execution_count": 4,
     "metadata": {},
     "output_type": "execute_result"
    }
   ],
   "source": [
    "a * 3"
   ]
  },
  {
   "cell_type": "code",
   "execution_count": 5,
   "id": "98cf826b",
   "metadata": {},
   "outputs": [],
   "source": [
    "#자료형이 다른 유형끼리 연산을 수행하면 에러발생!"
   ]
  },
  {
   "cell_type": "markdown",
   "id": "0be3a0ce",
   "metadata": {},
   "source": [
    "### 문자열 인덱싱과 슬라이싱"
   ]
  },
  {
   "cell_type": "code",
   "execution_count": 7,
   "id": "02da5f4c",
   "metadata": {},
   "outputs": [],
   "source": [
    "a = \"Hello Python!\""
   ]
  },
  {
   "cell_type": "code",
   "execution_count": 8,
   "id": "ad72ed30",
   "metadata": {},
   "outputs": [
    {
     "data": {
      "text/plain": [
       "'!'"
      ]
     },
     "execution_count": 8,
     "metadata": {},
     "output_type": "execute_result"
    }
   ],
   "source": [
    "a[-1]"
   ]
  },
  {
   "cell_type": "code",
   "execution_count": 9,
   "id": "cf26f314",
   "metadata": {},
   "outputs": [
    {
     "data": {
      "text/plain": [
       "'l'"
      ]
     },
     "execution_count": 9,
     "metadata": {},
     "output_type": "execute_result"
    }
   ],
   "source": [
    "a[3]"
   ]
  },
  {
   "cell_type": "code",
   "execution_count": 10,
   "id": "ed6b2dc1",
   "metadata": {},
   "outputs": [
    {
     "data": {
      "text/plain": [
       "'Hello Pytho'"
      ]
     },
     "execution_count": 10,
     "metadata": {},
     "output_type": "execute_result"
    }
   ],
   "source": [
    "a[:-2]"
   ]
  },
  {
   "cell_type": "code",
   "execution_count": 11,
   "id": "150f9a9a",
   "metadata": {},
   "outputs": [
    {
     "name": "stdout",
     "output_type": "stream",
     "text": [
      "Live\n"
     ]
    }
   ],
   "source": [
    "a = \"Life\"\n",
    "b = a[:2] + \"v\" + a[-1]\n",
    "print(b)"
   ]
  },
  {
   "cell_type": "markdown",
   "id": "cb1afd58",
   "metadata": {},
   "source": [
    "### 문자열 포맷팅"
   ]
  },
  {
   "cell_type": "code",
   "execution_count": 12,
   "id": "b1317143",
   "metadata": {},
   "outputs": [
    {
     "data": {
      "text/plain": [
       "'I eat 3 bananas.'"
      ]
     },
     "execution_count": 12,
     "metadata": {},
     "output_type": "execute_result"
    }
   ],
   "source": [
    "\"I eat %s bananas.\" %3"
   ]
  },
  {
   "cell_type": "code",
   "execution_count": 14,
   "id": "93e4ce38",
   "metadata": {},
   "outputs": [
    {
     "data": {
      "text/plain": [
       "'I eat three bananas.'"
      ]
     },
     "execution_count": 14,
     "metadata": {},
     "output_type": "execute_result"
    }
   ],
   "source": [
    "\"I eat %s bananas.\" %\"three\""
   ]
  },
  {
   "cell_type": "code",
   "execution_count": 15,
   "id": "c577e02a",
   "metadata": {},
   "outputs": [
    {
     "data": {
      "text/plain": [
       "'I eat white eggs'"
      ]
     },
     "execution_count": 15,
     "metadata": {},
     "output_type": "execute_result"
    }
   ],
   "source": [
    "color = 'white'\n",
    "\"I eat %s eggs\" %color"
   ]
  },
  {
   "cell_type": "markdown",
   "id": "d3d2283b",
   "metadata": {},
   "source": [
    "### 문자열 함수"
   ]
  },
  {
   "cell_type": "code",
   "execution_count": 16,
   "id": "b837f875",
   "metadata": {},
   "outputs": [],
   "source": [
    "test = \"I need {} eggs.\".format(\"white\")"
   ]
  },
  {
   "cell_type": "code",
   "execution_count": 17,
   "id": "8c884e66",
   "metadata": {},
   "outputs": [
    {
     "data": {
      "text/plain": [
       "'I need white eggs.'"
      ]
     },
     "execution_count": 17,
     "metadata": {},
     "output_type": "execute_result"
    }
   ],
   "source": [
    "test"
   ]
  },
  {
   "cell_type": "markdown",
   "id": "fb97eb03",
   "metadata": {},
   "source": [
    "### count(), find(), index(), join(), upper(), lower(), split(), replace() 함수"
   ]
  },
  {
   "cell_type": "code",
   "execution_count": 18,
   "id": "cbca8010",
   "metadata": {},
   "outputs": [
    {
     "data": {
      "text/plain": [
       "2"
      ]
     },
     "execution_count": 18,
     "metadata": {},
     "output_type": "execute_result"
    }
   ],
   "source": [
    "a = \"I eat banana\"\n",
    "a.count(\"n\")"
   ]
  },
  {
   "cell_type": "code",
   "execution_count": 19,
   "id": "3ac14cbc",
   "metadata": {},
   "outputs": [
    {
     "name": "stdout",
     "output_type": "stream",
     "text": [
      "8\n",
      "8\n"
     ]
    }
   ],
   "source": [
    "print(a.find(\"n\"))\n",
    "print(a.index(\"n\"))"
   ]
  },
  {
   "cell_type": "code",
   "execution_count": 20,
   "id": "6700078a",
   "metadata": {},
   "outputs": [
    {
     "name": "stdout",
     "output_type": "stream",
     "text": [
      "f,r,u,i,t\n"
     ]
    }
   ],
   "source": [
    "b = \",\".join(\"fruit\")\n",
    "print(b)"
   ]
  },
  {
   "cell_type": "code",
   "execution_count": 23,
   "id": "abaf9875",
   "metadata": {},
   "outputs": [
    {
     "name": "stdout",
     "output_type": "stream",
     "text": [
      "HELLO\n",
      "hello\n"
     ]
    }
   ],
   "source": [
    "a = \"Hello\"\n",
    "print(a.upper())\n",
    "print(a.lower())"
   ]
  },
  {
   "cell_type": "code",
   "execution_count": 24,
   "id": "4539276c",
   "metadata": {},
   "outputs": [
    {
     "name": "stdout",
     "output_type": "stream",
     "text": [
      "['I', 'eat', 'banana']\n"
     ]
    }
   ],
   "source": [
    "a = \"I eat banana\"\n",
    "print(a.split())"
   ]
  },
  {
   "cell_type": "code",
   "execution_count": 25,
   "id": "45b4cac4",
   "metadata": {},
   "outputs": [
    {
     "name": "stdout",
     "output_type": "stream",
     "text": [
      "I ebt banana\n",
      "I ebt bbnbnb\n"
     ]
    }
   ],
   "source": [
    "print(a.replace(\"a\", \"b\", 1))\n",
    "print(a.replace(\"a\", \"b\"))"
   ]
  },
  {
   "cell_type": "markdown",
   "id": "a6a0c406",
   "metadata": {},
   "source": [
    "### 불(Bool)"
   ]
  },
  {
   "cell_type": "code",
   "execution_count": 26,
   "id": "5b4bc022",
   "metadata": {},
   "outputs": [
    {
     "name": "stdout",
     "output_type": "stream",
     "text": [
      "True\n",
      "False\n"
     ]
    }
   ],
   "source": [
    "print(1 == 1)\n",
    "print(11 > 16)"
   ]
  },
  {
   "cell_type": "code",
   "execution_count": 27,
   "id": "b7d25d68",
   "metadata": {},
   "outputs": [
    {
     "name": "stdout",
     "output_type": "stream",
     "text": [
      "True\n",
      "False\n"
     ]
    }
   ],
   "source": [
    "print(bool(\"python\"))\n",
    "print(bool(None))"
   ]
  },
  {
   "cell_type": "markdown",
   "id": "7817525c",
   "metadata": {},
   "source": [
    "## 2.3 복합 자료형"
   ]
  },
  {
   "cell_type": "markdown",
   "id": "969beb17",
   "metadata": {},
   "source": [
    "### 리스트"
   ]
  },
  {
   "cell_type": "code",
   "execution_count": 28,
   "id": "b6de522b",
   "metadata": {},
   "outputs": [
    {
     "name": "stdout",
     "output_type": "stream",
     "text": [
      "[3, 6, 9, 2, 4, 6]\n",
      "[3, 6, 9, 3, 6, 9, 3, 6, 9]\n"
     ]
    }
   ],
   "source": [
    "a = [3, 6, 9]\n",
    "b = [2, 4, 6]\n",
    "print(a + b)\n",
    "print(a * 3)"
   ]
  },
  {
   "cell_type": "markdown",
   "id": "a69cb596",
   "metadata": {},
   "source": [
    "### 리스트 인덱싱과 슬라이싱"
   ]
  },
  {
   "cell_type": "code",
   "execution_count": 30,
   "id": "8672f296",
   "metadata": {},
   "outputs": [
    {
     "name": "stdout",
     "output_type": "stream",
     "text": [
      "95\n",
      "['soup', 'cookie']\n"
     ]
    }
   ],
   "source": [
    "test = [75, 69, 95, 84, 89]\n",
    "food = [\"milk\", \"juice\", \"rice\", \"soup\", \"cookie\"]\n",
    "print(test[2])\n",
    "print(food[3:5])"
   ]
  },
  {
   "cell_type": "markdown",
   "id": "e8aaf994",
   "metadata": {},
   "source": [
    "### 리스트 변경과 삭제"
   ]
  },
  {
   "cell_type": "code",
   "execution_count": 31,
   "id": "f2b776c6",
   "metadata": {},
   "outputs": [
    {
     "name": "stdout",
     "output_type": "stream",
     "text": [
      "[1, 3, 5, 8, 6, 2, 4]\n"
     ]
    }
   ],
   "source": [
    "a = [1, 3, 5, 7, 6, 2, 4]\n",
    "a[3] = 8\n",
    "print(a)"
   ]
  },
  {
   "cell_type": "code",
   "execution_count": 32,
   "id": "dd1b089d",
   "metadata": {},
   "outputs": [
    {
     "name": "stdout",
     "output_type": "stream",
     "text": [
      "[1, 2, 3, 5, 6, 7, 8]\n"
     ]
    }
   ],
   "source": [
    "a = [1, 2, 3, 4, 5, 6, 7, 8]\n",
    "del a[3]\n",
    "print(a)"
   ]
  },
  {
   "cell_type": "markdown",
   "id": "e094e786",
   "metadata": {},
   "source": [
    "### 리스트 함수( append() - 추가, insert() - 삽입, remove() - 삭제 )"
   ]
  },
  {
   "cell_type": "code",
   "execution_count": 33,
   "id": "993b6814",
   "metadata": {},
   "outputs": [
    {
     "name": "stdout",
     "output_type": "stream",
     "text": [
      "[1, 2, 3, 4, 5, 6]\n"
     ]
    }
   ],
   "source": [
    "a = [1, 2, 3, 4, 5]\n",
    "a.append(6)\n",
    "print(a)"
   ]
  },
  {
   "cell_type": "code",
   "execution_count": 34,
   "id": "2f7879ef",
   "metadata": {},
   "outputs": [
    {
     "name": "stdout",
     "output_type": "stream",
     "text": [
      "[1, 2, 10, 3, 4, 5, 6]\n"
     ]
    }
   ],
   "source": [
    "a.insert(2, 10)\n",
    "print(a)"
   ]
  },
  {
   "cell_type": "code",
   "execution_count": 35,
   "id": "9a280145",
   "metadata": {},
   "outputs": [
    {
     "name": "stdout",
     "output_type": "stream",
     "text": [
      "[1, 10, 3, 4, 5, 6]\n"
     ]
    }
   ],
   "source": [
    "a.remove(2)\n",
    "print(a)"
   ]
  },
  {
   "cell_type": "markdown",
   "id": "e756bdb7",
   "metadata": {},
   "source": [
    "### sort(), reverse(), pop(), extend() 함수"
   ]
  },
  {
   "cell_type": "code",
   "execution_count": 37,
   "id": "4c38b27a",
   "metadata": {},
   "outputs": [
    {
     "name": "stdout",
     "output_type": "stream",
     "text": [
      "[1, 2, 3, 4, 5, 6]\n"
     ]
    }
   ],
   "source": [
    "a = [2, 1, 4, 3, 6, 5]\n",
    "a.sort()\n",
    "print(a)"
   ]
  },
  {
   "cell_type": "code",
   "execution_count": 38,
   "id": "c5922b87",
   "metadata": {},
   "outputs": [
    {
     "name": "stdout",
     "output_type": "stream",
     "text": [
      "[6, 5, 4, 3, 2, 1]\n"
     ]
    }
   ],
   "source": [
    "a.reverse()\n",
    "print(a)"
   ]
  },
  {
   "cell_type": "code",
   "execution_count": 39,
   "id": "37d23f82",
   "metadata": {},
   "outputs": [
    {
     "name": "stdout",
     "output_type": "stream",
     "text": [
      "1\n",
      "[6, 5, 4, 3, 2]\n"
     ]
    }
   ],
   "source": [
    "print(a.pop())\n",
    "print(a)"
   ]
  },
  {
   "cell_type": "code",
   "execution_count": 40,
   "id": "49e0ae64",
   "metadata": {},
   "outputs": [
    {
     "name": "stdout",
     "output_type": "stream",
     "text": [
      "[6, 5, 4, 3, 2, 10, 20, 30]\n"
     ]
    }
   ],
   "source": [
    "a.extend([10, 20, 30])\n",
    "print(a)"
   ]
  },
  {
   "cell_type": "markdown",
   "id": "cd6d9fe8",
   "metadata": {},
   "source": [
    "### 튜플"
   ]
  },
  {
   "cell_type": "code",
   "execution_count": 41,
   "id": "8784ba35",
   "metadata": {},
   "outputs": [
    {
     "name": "stdout",
     "output_type": "stream",
     "text": [
      "(1, 2, 3, 'a', 'b', 'c', 4, 5, 6)\n",
      "(1, 2, 3, 'a', 'b', 'c', 1, 2, 3, 'a', 'b', 'c')\n"
     ]
    }
   ],
   "source": [
    "tp1 = (1, 2, 3, \"a\", \"b\", \"c\")\n",
    "tp2 = (4, 5, 6)\n",
    "print(tp1 + tp2)\n",
    "print(tp1 * 2)"
   ]
  },
  {
   "cell_type": "markdown",
   "id": "f67860d3",
   "metadata": {},
   "source": [
    "### 딕셔너리"
   ]
  },
  {
   "cell_type": "code",
   "execution_count": 51,
   "id": "ca89afc0",
   "metadata": {},
   "outputs": [],
   "source": [
    "dict1 = {\"name\" : \"Lee\", \"age\" : 25, \"birth\" : \"0331\"}\n",
    "dict2 = {1 : \"ab\"}\n",
    "dict3 = {\"test\" : [1, 3, 5, 7]}"
   ]
  },
  {
   "cell_type": "markdown",
   "id": "a524a189",
   "metadata": {},
   "source": [
    "### 딕셔너리 자료 추가 및 삭제"
   ]
  },
  {
   "cell_type": "code",
   "execution_count": 52,
   "id": "3bdd2074",
   "metadata": {},
   "outputs": [
    {
     "name": "stdout",
     "output_type": "stream",
     "text": [
      "Lee\n"
     ]
    }
   ],
   "source": [
    "print(dict1[\"name\"])"
   ]
  },
  {
   "cell_type": "code",
   "execution_count": 53,
   "id": "ade80e46",
   "metadata": {
    "scrolled": true
   },
   "outputs": [
    {
     "name": "stdout",
     "output_type": "stream",
     "text": [
      "[1, 3, 5, 7]\n"
     ]
    }
   ],
   "source": [
    "print(dict3[\"test\"])"
   ]
  },
  {
   "cell_type": "code",
   "execution_count": 54,
   "id": "cd50891b",
   "metadata": {},
   "outputs": [
    {
     "name": "stdout",
     "output_type": "stream",
     "text": [
      "{'test': [10, 20]}\n"
     ]
    }
   ],
   "source": [
    "dict3[\"test\"] = [10, 20]\n",
    "print(dict3)"
   ]
  },
  {
   "cell_type": "code",
   "execution_count": 55,
   "id": "425eefa7",
   "metadata": {},
   "outputs": [
    {
     "name": "stdout",
     "output_type": "stream",
     "text": [
      "{'test': [10, 20], 'test2': [50, 70]}\n"
     ]
    }
   ],
   "source": [
    "dict3[\"test2\"] = [50, 70]\n",
    "print(dict3)"
   ]
  },
  {
   "cell_type": "code",
   "execution_count": 56,
   "id": "0c8112e5",
   "metadata": {},
   "outputs": [
    {
     "name": "stdout",
     "output_type": "stream",
     "text": [
      "{'test': [10, 20]}\n"
     ]
    }
   ],
   "source": [
    "del dict3[\"test2\"]\n",
    "print(dict3)"
   ]
  },
  {
   "cell_type": "code",
   "execution_count": null,
   "id": "11dfe628",
   "metadata": {},
   "outputs": [],
   "source": []
  }
 ],
 "metadata": {
  "kernelspec": {
   "display_name": "Python 3 (ipykernel)",
   "language": "python",
   "name": "python3"
  },
  "language_info": {
   "codemirror_mode": {
    "name": "ipython",
    "version": 3
   },
   "file_extension": ".py",
   "mimetype": "text/x-python",
   "name": "python",
   "nbconvert_exporter": "python",
   "pygments_lexer": "ipython3",
   "version": "3.9.13"
  }
 },
 "nbformat": 4,
 "nbformat_minor": 5
}
