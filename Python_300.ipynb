{
 "cells": [
  {
   "cell_type": "markdown",
   "id": "a8d14470",
   "metadata": {},
   "source": [
    "# 1 ~ 10"
   ]
  },
  {
   "cell_type": "code",
   "execution_count": 2,
   "id": "875a1aa2",
   "metadata": {},
   "outputs": [
    {
     "name": "stdout",
     "output_type": "stream",
     "text": [
      "Hello World\n"
     ]
    }
   ],
   "source": [
    "#1\n",
    "\n",
    "print(\"Hello World\")"
   ]
  },
  {
   "cell_type": "code",
   "execution_count": 4,
   "id": "3ef149af",
   "metadata": {},
   "outputs": [
    {
     "name": "stdout",
     "output_type": "stream",
     "text": [
      "Mary's cosmetics\n"
     ]
    }
   ],
   "source": [
    "#2\n",
    "\n",
    "print(\"Mary's cosmetics\")"
   ]
  },
  {
   "cell_type": "code",
   "execution_count": 6,
   "id": "9825ed9b",
   "metadata": {},
   "outputs": [
    {
     "name": "stdout",
     "output_type": "stream",
     "text": [
      "신씨가 소리질렀다. \"도둑이야\".\n"
     ]
    }
   ],
   "source": [
    "#3\n",
    "\n",
    "print(\"신씨가 소리질렀다. \\\"도둑이야\\\".\")"
   ]
  },
  {
   "cell_type": "code",
   "execution_count": 7,
   "id": "daae2d13",
   "metadata": {},
   "outputs": [
    {
     "name": "stdout",
     "output_type": "stream",
     "text": [
      "C:\\Windows\n"
     ]
    }
   ],
   "source": [
    "#4\n",
    "\n",
    "print(\"C:\\Windows\")"
   ]
  },
  {
   "cell_type": "code",
   "execution_count": 8,
   "id": "74d8d08a",
   "metadata": {},
   "outputs": [
    {
     "name": "stdout",
     "output_type": "stream",
     "text": [
      "오늘은 일요일\n"
     ]
    }
   ],
   "source": [
    "#6\n",
    "\n",
    "print (\"오늘은\", \"일요일\")"
   ]
  },
  {
   "cell_type": "code",
   "execution_count": 17,
   "id": "fee5eefe",
   "metadata": {},
   "outputs": [
    {
     "name": "stdout",
     "output_type": "stream",
     "text": [
      "naver;kakao;samsung\n",
      "naver;kakao;samsung\n"
     ]
    }
   ],
   "source": [
    "#7\n",
    "\n",
    "print(\"naver;kakao;samsung\")\n",
    "\n",
    "print(\"naver\", \"kakao\", \"samsung\", sep=\";\")"
   ]
  },
  {
   "cell_type": "code",
   "execution_count": 20,
   "id": "c0eb338a",
   "metadata": {},
   "outputs": [
    {
     "name": "stdout",
     "output_type": "stream",
     "text": [
      "naver/kakao/samsung\n",
      "naver/kakao/samsung\n"
     ]
    }
   ],
   "source": [
    "#8\n",
    "\n",
    "print(\"naver/kakao/samsung\")\n",
    "\n",
    "print(\"naver\", \"kakao\", \"samsung\", sep=\"/\")"
   ]
  },
  {
   "cell_type": "code",
   "execution_count": 14,
   "id": "86307c6a",
   "metadata": {},
   "outputs": [
    {
     "name": "stdout",
     "output_type": "stream",
     "text": [
      "first second\n"
     ]
    }
   ],
   "source": [
    "#9\n",
    "\n",
    "print(\"first\", end=\" \");print(\"second\")"
   ]
  },
  {
   "cell_type": "code",
   "execution_count": 15,
   "id": "b360798a",
   "metadata": {},
   "outputs": [
    {
     "name": "stdout",
     "output_type": "stream",
     "text": [
      "1.6666666666666667\n"
     ]
    }
   ],
   "source": [
    "#10\n",
    "\n",
    "print(5/3)"
   ]
  },
  {
   "cell_type": "markdown",
   "id": "290b9dfe",
   "metadata": {},
   "source": [
    "# 11 ~ 20"
   ]
  },
  {
   "cell_type": "code",
   "execution_count": 21,
   "id": "8a3dea38",
   "metadata": {},
   "outputs": [
    {
     "name": "stdout",
     "output_type": "stream",
     "text": [
      "500000\n"
     ]
    }
   ],
   "source": [
    "#11\n",
    "\n",
    "삼성전자 = 50000\n",
    "\n",
    "print(삼성전자 * 10)"
   ]
  },
  {
   "cell_type": "code",
   "execution_count": 22,
   "id": "7a40827a",
   "metadata": {},
   "outputs": [],
   "source": [
    "#12\n",
    "\n",
    "시가총액 = 298000000000000\n",
    "현재가 = 50000\n",
    "PER = 15.79"
   ]
  },
  {
   "cell_type": "code",
   "execution_count": 26,
   "id": "7bd06e77",
   "metadata": {},
   "outputs": [
    {
     "name": "stdout",
     "output_type": "stream",
     "text": [
      "hello! python\n"
     ]
    }
   ],
   "source": [
    "#13\n",
    "\n",
    "s = \"hello\"\n",
    "t = \"python\"\n",
    "\n",
    "print(s + \"! \" + t)"
   ]
  },
  {
   "cell_type": "code",
   "execution_count": 27,
   "id": "aae2af34",
   "metadata": {},
   "outputs": [
    {
     "data": {
      "text/plain": [
       "8"
      ]
     },
     "execution_count": 27,
     "metadata": {},
     "output_type": "execute_result"
    }
   ],
   "source": [
    "#14\n",
    "\n",
    "2 + 2 * 3"
   ]
  },
  {
   "cell_type": "code",
   "execution_count": 28,
   "id": "3d7ab060",
   "metadata": {},
   "outputs": [
    {
     "data": {
      "text/plain": [
       "str"
      ]
     },
     "execution_count": 28,
     "metadata": {},
     "output_type": "execute_result"
    }
   ],
   "source": [
    "#15\n",
    "\n",
    "a = \"132\"\n",
    "\n",
    "type(a)"
   ]
  },
  {
   "cell_type": "code",
   "execution_count": 30,
   "id": "fc2ce0ac",
   "metadata": {},
   "outputs": [
    {
     "data": {
      "text/plain": [
       "int"
      ]
     },
     "execution_count": 30,
     "metadata": {},
     "output_type": "execute_result"
    }
   ],
   "source": [
    "#16\n",
    "\n",
    "num_str = \"720\"\n",
    "num_str = int(num_str)\n",
    "\n",
    "type(num_str)"
   ]
  },
  {
   "cell_type": "code",
   "execution_count": 34,
   "id": "cd946191",
   "metadata": {},
   "outputs": [
    {
     "name": "stdout",
     "output_type": "stream",
     "text": [
      "100\n"
     ]
    }
   ],
   "source": [
    "#17\n",
    "\n",
    "num = 100\n",
    "num = str(100)\n",
    "\n",
    "print(num)"
   ]
  },
  {
   "cell_type": "code",
   "execution_count": 36,
   "id": "aa25611b",
   "metadata": {},
   "outputs": [
    {
     "name": "stdout",
     "output_type": "stream",
     "text": [
      "15.79\n",
      "<class 'float'>\n"
     ]
    }
   ],
   "source": [
    "#18\n",
    "\n",
    "문자열 = \"15.79\"\n",
    "문자열 = float(문자열)\n",
    "\n",
    "print(문자열)\n",
    "print(type(문자열))"
   ]
  },
  {
   "cell_type": "code",
   "execution_count": 37,
   "id": "78bf78c4",
   "metadata": {},
   "outputs": [
    {
     "name": "stdout",
     "output_type": "stream",
     "text": [
      "2017 2019 2020\n"
     ]
    }
   ],
   "source": [
    "#19\n",
    "\n",
    "year = \"2020\"\n",
    "year = int(year)\n",
    "\n",
    "print(year-3, year-1, year)"
   ]
  },
  {
   "cell_type": "code",
   "execution_count": 38,
   "id": "0c02812d",
   "metadata": {},
   "outputs": [
    {
     "name": "stdout",
     "output_type": "stream",
     "text": [
      "1749024\n"
     ]
    }
   ],
   "source": [
    "#20\n",
    "\n",
    "월가격 = 48584\n",
    "무이자 = 36\n",
    "총금액 = 월가격 * 무이자\n",
    "\n",
    "print(총금액)"
   ]
  },
  {
   "cell_type": "markdown",
   "id": "28120d51",
   "metadata": {},
   "source": [
    "# 21 ~ 30"
   ]
  },
  {
   "cell_type": "code",
   "execution_count": 39,
   "id": "620a1201",
   "metadata": {},
   "outputs": [
    {
     "name": "stdout",
     "output_type": "stream",
     "text": [
      "p t\n"
     ]
    }
   ],
   "source": [
    "#21\n",
    "\n",
    "letters = 'python'\n",
    "print(letters[0], letters[2])"
   ]
  },
  {
   "cell_type": "code",
   "execution_count": 59,
   "id": "f63999ae",
   "metadata": {},
   "outputs": [
    {
     "name": "stdout",
     "output_type": "stream",
     "text": [
      "2210\n"
     ]
    }
   ],
   "source": [
    "#22\n",
    "\n",
    "license_plate = \"24가 2210\"\n",
    "print(license_plate[-4:])"
   ]
  },
  {
   "cell_type": "code",
   "execution_count": 42,
   "id": "192007f8",
   "metadata": {},
   "outputs": [
    {
     "name": "stdout",
     "output_type": "stream",
     "text": [
      "홀홀홀\n"
     ]
    }
   ],
   "source": [
    "#23\n",
    "\n",
    "string = \"홀짝홀짝홀짝\"\n",
    "print(string[0::2])"
   ]
  },
  {
   "cell_type": "code",
   "execution_count": 44,
   "id": "4f86f51e",
   "metadata": {},
   "outputs": [
    {
     "name": "stdout",
     "output_type": "stream",
     "text": [
      "NOHTYP\n"
     ]
    }
   ],
   "source": [
    "#24\n",
    "\n",
    "string = \"PYTHON\"\n",
    "print(string[::-1])"
   ]
  },
  {
   "cell_type": "code",
   "execution_count": 50,
   "id": "cd7038d4",
   "metadata": {},
   "outputs": [
    {
     "name": "stdout",
     "output_type": "stream",
     "text": [
      "010 1111 2222\n"
     ]
    }
   ],
   "source": [
    "#25\n",
    "\n",
    "phone_number = \"010-1111-2222\"\n",
    "print(phone_number.replace('-', ' '))"
   ]
  },
  {
   "cell_type": "code",
   "execution_count": 51,
   "id": "61bdba63",
   "metadata": {},
   "outputs": [
    {
     "name": "stdout",
     "output_type": "stream",
     "text": [
      "01011112222\n"
     ]
    }
   ],
   "source": [
    "#26\n",
    "\n",
    "print(phone_number.replace('-', ''))"
   ]
  },
  {
   "cell_type": "code",
   "execution_count": 62,
   "id": "def6d9f1",
   "metadata": {},
   "outputs": [
    {
     "name": "stdout",
     "output_type": "stream",
     "text": [
      "kr\n"
     ]
    }
   ],
   "source": [
    "#27\n",
    "\n",
    "url = \"http://sharebook.kr\"\n",
    "#print(url[-2:])\n",
    "\n",
    "url_split = url.split('.')\n",
    "print(url_split[-1])"
   ]
  },
  {
   "cell_type": "code",
   "execution_count": 63,
   "id": "20d7c735",
   "metadata": {},
   "outputs": [
    {
     "name": "stdout",
     "output_type": "stream",
     "text": [
      "python\n"
     ]
    }
   ],
   "source": [
    "#28\n",
    "\n",
    "lang = 'python'\n",
    "#lang[0] = 'P'  문자열은 수정할 수 없습니다.\n",
    "print(lang)"
   ]
  },
  {
   "cell_type": "code",
   "execution_count": 55,
   "id": "bd32b95c",
   "metadata": {},
   "outputs": [
    {
     "name": "stdout",
     "output_type": "stream",
     "text": [
      "Abcdfe2A354A32A\n"
     ]
    }
   ],
   "source": [
    "#29\n",
    "\n",
    "string = 'abcdfe2a354a32a'\n",
    "print(string.replace('a', 'A'))"
   ]
  },
  {
   "cell_type": "code",
   "execution_count": 56,
   "id": "94faee72",
   "metadata": {},
   "outputs": [
    {
     "name": "stdout",
     "output_type": "stream",
     "text": [
      "abcd\n"
     ]
    }
   ],
   "source": [
    "#30\n",
    "\n",
    "string = 'abcd'\n",
    "string.replace('b', 'B')\n",
    "print(string)"
   ]
  },
  {
   "cell_type": "markdown",
   "id": "a0824bb9",
   "metadata": {},
   "source": [
    "# 31 ~ 40"
   ]
  },
  {
   "cell_type": "code",
   "execution_count": null,
   "id": "fd71ee17",
   "metadata": {},
   "outputs": [],
   "source": []
  }
 ],
 "metadata": {
  "kernelspec": {
   "display_name": "Python 3 (ipykernel)",
   "language": "python",
   "name": "python3"
  },
  "language_info": {
   "codemirror_mode": {
    "name": "ipython",
    "version": 3
   },
   "file_extension": ".py",
   "mimetype": "text/x-python",
   "name": "python",
   "nbconvert_exporter": "python",
   "pygments_lexer": "ipython3",
   "version": "3.9.13"
  }
 },
 "nbformat": 4,
 "nbformat_minor": 5
}
