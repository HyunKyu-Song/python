{
 "cells": [
  {
   "cell_type": "code",
   "execution_count": 1,
   "id": "400bdbaf",
   "metadata": {},
   "outputs": [],
   "source": [
    "#51\n",
    "\n",
    "a = 63231\n",
    "\n",
    "\n"
   ]
  },
  {
   "cell_type": "code",
   "execution_count": 2,
   "id": "ad38ec53",
   "metadata": {},
   "outputs": [
    {
     "name": "stdout",
     "output_type": "stream",
     "text": [
      "ZZabc123def456ghi789xyZ123ZZZ333\n"
     ]
    }
   ],
   "source": [
    "#52\n",
    "\n",
    "string = 'zZabc123def456ghi789xyz123zZz333'\n",
    "\n",
    "print(string.replace('z', 'Z'))"
   ]
  },
  {
   "cell_type": "code",
   "execution_count": 10,
   "id": "a537800e",
   "metadata": {},
   "outputs": [
    {
     "name": "stdout",
     "output_type": "stream",
     "text": [
      "2020/03(E) (IFRS연결)\n"
     ]
    }
   ],
   "source": [
    "#53\n"
   ]
  },
  {
   "cell_type": "code",
   "execution_count": 11,
   "id": "52fe7ad7",
   "metadata": {},
   "outputs": [
    {
     "name": "stdout",
     "output_type": "stream",
     "text": [
      "['A', 'B', 'C', 'Python', 'Go', 'C#']\n"
     ]
    }
   ],
   "source": [
    "#54\n",
    "\n",
    "a1 = [\"A\", \"B\", \"C\"]\n",
    "a2 = [\"Python\", \"Go\", \"C#\"]\n",
    "\n",
    "langs = []\n",
    "langs = a1 + a2\n",
    "print(langs)"
   ]
  },
  {
   "cell_type": "code",
   "execution_count": 12,
   "id": "845c914f",
   "metadata": {},
   "outputs": [
    {
     "name": "stdout",
     "output_type": "stream",
     "text": [
      "8\n"
     ]
    }
   ],
   "source": [
    "#55\n",
    "\n",
    "def cnt(inp):\n",
    "    print(len(inp))\n",
    "\n",
    "\n",
    "cook = [\"피자\", \"김밥\", \"만두\", \"양념치킨\", \"족발\", \"피자\", \"김치만두\", \"김치전\"]\n",
    "cnt(cook)\n"
   ]
  },
  {
   "cell_type": "code",
   "execution_count": 13,
   "id": "a602871b",
   "metadata": {},
   "outputs": [
    {
     "name": "stdout",
     "output_type": "stream",
     "text": [
      "[100, 70, 60, 50, 40]\n"
     ]
    }
   ],
   "source": [
    "#56\n",
    "\n",
    "nums = [40, 50, 60, 70, 100]\n",
    "\n",
    "print(nums[::-1])"
   ]
  },
  {
   "cell_type": "code",
   "execution_count": 14,
   "id": "1c51b052",
   "metadata": {},
   "outputs": [
    {
     "name": "stdout",
     "output_type": "stream",
     "text": [
      "['일동제약', '이지트로닉스', '한진칼']\n"
     ]
    }
   ],
   "source": [
    "#57\n",
    "\n",
    "string = \"일동제약/이지트로닉스/한진칼\"\n",
    "stock = []\n",
    "\n",
    "stock = string.split('/')\n",
    "\n",
    "print(stock)\n"
   ]
  },
  {
   "cell_type": "code",
   "execution_count": 20,
   "id": "e5b6384d",
   "metadata": {},
   "outputs": [
    {
     "name": "stdout",
     "output_type": "stream",
     "text": [
      "(3, 6, 9, 12, 15, 18, 21, 24, 27, 30, 33, 36, 39, 42, 45, 48, 51, 54, 57, 60, 63, 66, 69, 72, 75, 78, 81, 84, 87, 90, 93, 96, 99)\n"
     ]
    }
   ],
   "source": [
    "#59\n",
    "\n",
    "a = []\n",
    "for i in range(1, 100):\n",
    "    if i % 3 == 0:\n",
    "        a.append(i)\n",
    "\n",
    "a = tuple(a)\n",
    "print(a)"
   ]
  },
  {
   "cell_type": "code",
   "execution_count": 21,
   "id": "a9b5dde0",
   "metadata": {},
   "outputs": [
    {
     "name": "stdout",
     "output_type": "stream",
     "text": [
      "8200\n"
     ]
    }
   ],
   "source": [
    "#60\n",
    "\n",
    "snack = {'오감자': 1500, '감자칩': 1400, '오잉': 1300, '초코송이': 1200, '고래밥': 1500, ' 오레오': 1300}\n",
    "\n",
    "합 = sum(snack.values())\n",
    "print(합)"
   ]
  },
  {
   "cell_type": "code",
   "execution_count": 24,
   "id": "17a814b4",
   "metadata": {},
   "outputs": [
    {
     "name": "stdout",
     "output_type": "stream",
     "text": [
      "좋아하는 과자는? 오레오\n",
      "정답입니다.\n"
     ]
    }
   ],
   "source": [
    "#61\n",
    "snack = [\"오감자\", \"오레오\", \"감자칩\"]\n",
    "a = input(\"좋아하는 과자는? \")\n",
    "\n",
    "if a in snack:\n",
    "    print(\"정답입니다.\")\n",
    "else:\n",
    "    print(\"오답입니다.\")"
   ]
  },
  {
   "cell_type": "code",
   "execution_count": null,
   "id": "acca12f0",
   "metadata": {},
   "outputs": [],
   "source": [
    "#62\n",
    "\n",
    "dic = {\n",
    "    \"달러\" : 1234,\n",
    "    \"유로\" : 1338,\n",
    "    \"위안\" : 165\n",
    "}\n",
    "\n",
    "money = input(\"입력: \")\n",
    "money = money.split(':')\n",
    "\n",
    "print(float(money[0]) * dic[money[1]], \"원\")"
   ]
  },
  {
   "cell_type": "code",
   "execution_count": null,
   "id": "3069de6b",
   "metadata": {},
   "outputs": [],
   "source": [
    "#65\n",
    "\n",
    "def print_3xn(line):\n",
    "    chunk_num = int(len(line) / 3)\n",
    "    for x in range(chunk_num + 1) :\n",
    "        print(line[x * 3: x * 3 + 3])\n",
    "\n",
    "print_3xn(\"abcdefghi\")"
   ]
  },
  {
   "cell_type": "code",
   "execution_count": null,
   "id": "b035847f",
   "metadata": {},
   "outputs": [],
   "source": [
    "\"\"\"\n",
    "#1\n",
    "예외 객체\n",
    "\n",
    "#2\n",
    "raise\n",
    "\n",
    "#3\n",
    "except\n",
    "\n",
    "#4\n",
    "\n",
    "\n",
    "#5\n",
    "구문오류\n",
    "\n",
    "#6\n",
    "기본 예외 처리\n",
    "\n",
    "#7\n",
    "try except\n",
    "\n",
    "#8\n",
    "\n",
    "\n",
    "#9\n",
    "\n",
    "\n",
    "#10\n",
    "try\n",
    "\n",
    "\n",
    "#12\n",
    "튜플\n",
    "\n",
    "#13\n",
    "람다\n",
    "\n",
    "#14\n",
    "전역스택\n",
    "\n",
    "#15\n",
    "16진수\n",
    "\n",
    "#16\n",
    "복합 자료형\n",
    "\n",
    "#17\n",
    "논리 자료형\n",
    "\n",
    "#18\n",
    "\n",
    "\n",
    "#19\n",
    "이터레이터\n",
    "\n",
    "#20\n",
    "스택오버프로우\n",
    "\n",
    "#21\n",
    "\n",
    "\n",
    "#22\n",
    "스트림\n",
    "\n",
    "#23\n",
    "파일경로, 모드\n",
    "\n",
    "#24\n",
    "map\n",
    "\n",
    "#25\n",
    "라이브러리\n",
    "\n",
    "#26\n",
    ",(쉼표)\n",
    "\n",
    "#27\n",
    "재귀함수\n",
    "\n",
    "#28\n",
    "집합\n",
    "\n",
    "#29\n",
    "바인딩\n",
    "\n",
    "#30\n",
    "\n",
    "#36\n",
    "A. 0\n",
    "B. 1\n",
    "\n",
    "#37\n",
    "None\n",
    "\n",
    "#38\n",
    "lower()\n",
    "\n",
    "#38-2\n",
    "O\n",
    "\n",
    "#39\n",
    "csv\n",
    "\n",
    "#40\n",
    "DataFrame()\n",
    "\n",
    "#41\n",
    "pip\n",
    "\n",
    "#42\n",
    "xlwings\n",
    "\n",
    "#43\n",
    "def __init__(self):\n",
    "\n",
    "#44\n",
    "enumerate\n",
    "\n",
    "#45\n",
    "ord()\n",
    "\n",
    "#46\n",
    "r, w, a, x\n",
    "\n",
    "#47\n",
    "ctrl+c\n",
    "\n",
    "#48\n",
    "a > b    a가 b보다 크다 \n",
    "a < b    b가 a보다 크다 \n",
    "a >= b   a가 b보다 크거나 같다 \n",
    "a <= b   b가 a보다 크거나 같다 \n",
    "\n",
    "#49\n",
    "8진수 %o\n",
    "16진수 %x\n",
    "\n",
    "#50\n",
    "\n",
    "\n",
    "#58\n",
    "튜플\n",
    "\n",
    "\"\"\""
   ]
  },
  {
   "cell_type": "code",
   "execution_count": null,
   "id": "00e3fea0",
   "metadata": {},
   "outputs": [],
   "source": []
  }
 ],
 "metadata": {
  "kernelspec": {
   "display_name": "Python 3 (ipykernel)",
   "language": "python",
   "name": "python3"
  },
  "language_info": {
   "codemirror_mode": {
    "name": "ipython",
    "version": 3
   },
   "file_extension": ".py",
   "mimetype": "text/x-python",
   "name": "python",
   "nbconvert_exporter": "python",
   "pygments_lexer": "ipython3",
   "version": "3.9.13"
  }
 },
 "nbformat": 4,
 "nbformat_minor": 5
}
