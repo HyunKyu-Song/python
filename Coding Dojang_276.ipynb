{
 "cells": [
  {
   "cell_type": "markdown",
   "id": "f33c5f13",
   "metadata": {},
   "source": [
    "# Multiples of 3 and 5"
   ]
  },
  {
   "cell_type": "code",
   "execution_count": 1,
   "id": "fa0d785c",
   "metadata": {},
   "outputs": [
    {
     "name": "stdout",
     "output_type": "stream",
     "text": [
      "233168\n"
     ]
    }
   ],
   "source": [
    "합 = 0\n",
    "\n",
    "for i in range(3, 1000):\n",
    "    if i % 3 == 0 or i % 5 == 0 or i % 15 == 0:\n",
    "        합 += i\n",
    "\n",
    "print(합)"
   ]
  },
  {
   "cell_type": "markdown",
   "id": "04a2bed9",
   "metadata": {},
   "source": [
    "# 사이냅소프트 면접문제"
   ]
  },
  {
   "cell_type": "code",
   "execution_count": 32,
   "id": "fb9c128b",
   "metadata": {},
   "outputs": [
    {
     "name": "stdout",
     "output_type": "stream",
     "text": [
      "2\n",
      "6\n"
     ]
    }
   ],
   "source": [
    "a = \"이유덕,이재영,권종표,이재영,박민호,강상희,이재영,김지완,최승혁,이성연,박영서,박민호,전경헌,송정환,김재성,이유덕,전경헌\".split(\",\")\n",
    "\n",
    "cnt_kim = 0\n",
    "cnt_lee = 0\n",
    "\n",
    "for i in a:\n",
    "    if i[0] == \"김\":\n",
    "        cnt_kim += 1\n",
    "    if i[0] == \"이\":\n",
    "        cnt_lee += 1\n",
    "        \n",
    "print(cnt_kim)\n",
    "print(cnt_lee)"
   ]
  },
  {
   "cell_type": "code",
   "execution_count": 33,
   "id": "2e5d4c48",
   "metadata": {},
   "outputs": [
    {
     "name": "stdout",
     "output_type": "stream",
     "text": [
      "3\n"
     ]
    }
   ],
   "source": [
    "a = \"이유덕,이재영,권종표,이재영,박민호,강상희,이재영,김지완,최승혁,이성연,박영서,박민호,전경헌,송정환,김재성,이유덕,전경헌\".split(\",\")\n",
    "\n",
    "cnt = 0\n",
    "\n",
    "for i in a:\n",
    "    if i == \"이재영\":\n",
    "        cnt += 1\n",
    "\n",
    "print(cnt)"
   ]
  },
  {
   "cell_type": "code",
   "execution_count": 35,
   "id": "d2202bae",
   "metadata": {},
   "outputs": [
    {
     "name": "stdout",
     "output_type": "stream",
     "text": [
      "{'이유덕', '박민호', '최승혁', '김재성', '이재영', '전경헌', '박영서', '강상희', '송정환', '권종표', '김지완', '이성연'}\n"
     ]
    }
   ],
   "source": [
    "a = \"이유덕,이재영,권종표,이재영,박민호,강상희,이재영,김지완,최승혁,이성연,박영서,박민호,전경헌,송정환,김재성,이유덕,전경헌\".split(\",\")\n",
    "\n",
    "a = set(a)\n",
    "\n",
    "print(a)"
   ]
  },
  {
   "cell_type": "code",
   "execution_count": 36,
   "id": "dcc0419e",
   "metadata": {},
   "outputs": [
    {
     "name": "stdout",
     "output_type": "stream",
     "text": [
      "['강상희', '권종표', '김재성', '김지완', '박민호', '박영서', '송정환', '이성연', '이유덕', '이재영', '전경헌', '최승혁']\n"
     ]
    }
   ],
   "source": [
    "a = \"이유덕,이재영,권종표,이재영,박민호,강상희,이재영,김지완,최승혁,이성연,박영서,박민호,전경헌,송정환,김재성,이유덕,전경헌\".split(\",\")\n",
    "\n",
    "a = set(a)\n",
    "a = list(a)\n",
    "a.sort()\n",
    "print(a)"
   ]
  },
  {
   "cell_type": "markdown",
   "id": "e31da901",
   "metadata": {},
   "source": [
    "# Special Sort"
   ]
  },
  {
   "cell_type": "code",
   "execution_count": 47,
   "id": "80569d21",
   "metadata": {},
   "outputs": [
    {
     "name": "stdout",
     "output_type": "stream",
     "text": [
      "[-1, -2, 1, 2, 3]\n"
     ]
    }
   ],
   "source": [
    "a = [-1, 1, 3, -2, 2]\n",
    "b = []\n",
    "c = []\n",
    "a.sort()\n",
    "for i in a:\n",
    "    if i < 0:\n",
    "        b.append(i)\n",
    "    else:\n",
    "        c.append(i)\n",
    "\n",
    "b.reverse()\n",
    "print(b + c)"
   ]
  },
  {
   "cell_type": "code",
   "execution_count": 70,
   "id": "a69928aa",
   "metadata": {},
   "outputs": [
    {
     "name": "stdout",
     "output_type": "stream",
     "text": [
      "입력: 9584\n",
      "[0, 0, 0, 0, 4, 0, 5, 0, 0, 8, 0, 0, 9, 0]\n"
     ]
    }
   ],
   "source": [
    "a = input(\"입력: \")\n",
    "\n",
    "l = len(a)\n",
    "a_list = [0,0,0,0,0,0,0,0,0,0]\n",
    "\n",
    "for i in a:\n",
    "    if int(i) in a_list:\n",
    "        pass\n",
    "    else:\n",
    "        a_list.insert(int(i), int(i))\n",
    "\n",
    "print(a_list)"
   ]
  },
  {
   "cell_type": "markdown",
   "id": "af7d78da",
   "metadata": {},
   "source": [
    "# Duplicate Numbers"
   ]
  },
  {
   "cell_type": "code",
   "execution_count": 74,
   "id": "2928d551",
   "metadata": {},
   "outputs": [
    {
     "name": "stdout",
     "output_type": "stream",
     "text": [
      "0~9 사이의 숫자로 이루어진 문자열 입력 : 012322456789\n",
      "false\n"
     ]
    }
   ],
   "source": [
    "a = input(\"0~9 사이의 숫자로 이루어진 문자열 입력 : \")\n",
    "print('true' if len(a) == len(set(a)) == 10  else 'false')"
   ]
  },
  {
   "cell_type": "markdown",
   "id": "d1c54993",
   "metadata": {},
   "source": [
    "#  버전비교"
   ]
  },
  {
   "cell_type": "code",
   "execution_count": 79,
   "id": "6378e957",
   "metadata": {},
   "outputs": [
    {
     "name": "stdout",
     "output_type": "stream",
     "text": [
      "v1: 1.0.10\n",
      "v2: 1.0.3\n",
      "1.0.10 < 1.0.3\n"
     ]
    }
   ],
   "source": [
    "a = input('v1: ')\n",
    "b = input('v2: ')\n",
    "\n",
    "a_list = a.split('.')\n",
    "b_list = b.split('.')\n",
    "\n",
    "if a_list > b_list:\n",
    "    print(f'{a} > {b}')\n",
    "elif a_list < b_list:\n",
    "    print(f'{a} < {b}')\n",
    "else:\n",
    "    print('같음')"
   ]
  },
  {
   "cell_type": "markdown",
   "id": "372cf6c2",
   "metadata": {},
   "source": [
    "# 1~1000에서 각 숫자의 개수 구하기"
   ]
  },
  {
   "cell_type": "code",
   "execution_count": 85,
   "id": "62dd6c68",
   "metadata": {},
   "outputs": [
    {
     "name": "stdout",
     "output_type": "stream",
     "text": [
      "{0: 192, 1: 301, 2: 300, 3: 300, 4: 300, 5: 300, 6: 300, 7: 300, 8: 300, 9: 300}\n"
     ]
    }
   ],
   "source": [
    "count = {\n",
    "    0 : 0,\n",
    "    1 : 0,\n",
    "    2 : 0,\n",
    "    3 : 0,\n",
    "    4 : 0,\n",
    "    5 : 0,\n",
    "    6 : 0,\n",
    "    7 : 0,\n",
    "    8 : 0,\n",
    "    9 : 0,\n",
    "}\n",
    "\n",
    "for i in range(1,1001):\n",
    "    for j in str(i):\n",
    "        count[int(j)]+=1\n",
    "\n",
    "print(count)"
   ]
  },
  {
   "cell_type": "code",
   "execution_count": null,
   "id": "1761a8cb",
   "metadata": {},
   "outputs": [],
   "source": []
  }
 ],
 "metadata": {
  "kernelspec": {
   "display_name": "Python 3 (ipykernel)",
   "language": "python",
   "name": "python3"
  },
  "language_info": {
   "codemirror_mode": {
    "name": "ipython",
    "version": 3
   },
   "file_extension": ".py",
   "mimetype": "text/x-python",
   "name": "python",
   "nbconvert_exporter": "python",
   "pygments_lexer": "ipython3",
   "version": "3.9.13"
  }
 },
 "nbformat": 4,
 "nbformat_minor": 5
}
