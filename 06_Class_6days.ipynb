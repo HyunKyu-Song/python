{
 "cells": [
  {
   "cell_type": "markdown",
   "id": "f27554dc",
   "metadata": {},
   "source": [
    "## 5-1 함수 만들기"
   ]
  },
  {
   "cell_type": "markdown",
   "id": "8318eade",
   "metadata": {},
   "source": [
    "### 함수의 기본"
   ]
  },
  {
   "cell_type": "code",
   "execution_count": 9,
   "id": "9bcea8e8",
   "metadata": {},
   "outputs": [
    {
     "name": "stdout",
     "output_type": "stream",
     "text": [
      "hello\n",
      "hello\n",
      "hello\n"
     ]
    }
   ],
   "source": [
    "def repeat():\n",
    "    print(\"hello\")\n",
    "    print(\"hello\")\n",
    "    print(\"hello\")\n",
    "\n",
    "repeat()"
   ]
  },
  {
   "cell_type": "markdown",
   "id": "efc528a2",
   "metadata": {},
   "source": [
    "### 함수에 매개변수 만들기"
   ]
  },
  {
   "cell_type": "code",
   "execution_count": 12,
   "id": "71206a04",
   "metadata": {},
   "outputs": [
    {
     "name": "stdout",
     "output_type": "stream",
     "text": [
      "hello world\n",
      "hello world\n",
      "hello world\n",
      "hello world\n",
      "hello world\n"
     ]
    }
   ],
   "source": [
    "def repeat_time(value, n):\n",
    "    for i in range(n):\n",
    "        print(\"hello \" + value)\n",
    "        i += 1\n",
    "\n",
    "repeat_time(\"world\", 5)"
   ]
  },
  {
   "cell_type": "markdown",
   "id": "7f996b87",
   "metadata": {},
   "source": [
    "### 가변 매개변수"
   ]
  },
  {
   "cell_type": "code",
   "execution_count": 14,
   "id": "042d5fa6",
   "metadata": {},
   "outputs": [
    {
     "name": "stdout",
     "output_type": "stream",
     "text": [
      "Python\n",
      "Java\n",
      "C언어\n",
      "\n",
      "\n",
      "Python\n",
      "Java\n",
      "C언어\n",
      "\n",
      "\n",
      "Python\n",
      "Java\n",
      "C언어\n",
      "\n",
      "\n"
     ]
    }
   ],
   "source": [
    "def print_n(n, *values):\n",
    "    for i in range(n):\n",
    "        for value in values:\n",
    "            print(value)\n",
    "        print(\"\\n\")\n",
    "\n",
    "print_n(3, \"Python\", \"Java\", \"C언어\")"
   ]
  },
  {
   "cell_type": "markdown",
   "id": "3382b682",
   "metadata": {},
   "source": [
    "### 기본 매개변수"
   ]
  },
  {
   "cell_type": "code",
   "execution_count": 19,
   "id": "7f35ec61",
   "metadata": {},
   "outputs": [
    {
     "name": "stdout",
     "output_type": "stream",
     "text": [
      "안녕\n",
      "안녕\n",
      "안녕\n"
     ]
    }
   ],
   "source": [
    "def print_time(value, n=3):\n",
    "    for i in range(n):\n",
    "        print(value)\n",
    "\n",
    "print_time(\"안녕\")"
   ]
  },
  {
   "cell_type": "code",
   "execution_count": 22,
   "id": "21a33a3e",
   "metadata": {},
   "outputs": [
    {
     "name": "stdout",
     "output_type": "stream",
     "text": [
      "안녕\n",
      "잘가\n",
      "뭐해\n",
      "\n",
      "\n",
      "안녕\n",
      "잘가\n",
      "뭐해\n",
      "\n",
      "\n",
      "안녕\n",
      "잘가\n",
      "뭐해\n",
      "\n",
      "\n"
     ]
    }
   ],
   "source": [
    "def print_timea(*values, n=3):\n",
    "    for i in range(n):\n",
    "        for value in values:\n",
    "            print(value)\n",
    "        print(\"\\n\")\n",
    "\n",
    "print_timea(\"안녕\", \"잘가\", \"뭐해\")"
   ]
  },
  {
   "cell_type": "markdown",
   "id": "3e0fe5e8",
   "metadata": {},
   "source": [
    "### 키워드 매개변수"
   ]
  },
  {
   "cell_type": "code",
   "execution_count": 23,
   "id": "00e56164",
   "metadata": {},
   "outputs": [
    {
     "name": "stdout",
     "output_type": "stream",
     "text": [
      "안녕\n",
      "잘가\n",
      "뭐해\n",
      "\n",
      "\n",
      "안녕\n",
      "잘가\n",
      "뭐해\n",
      "\n",
      "\n",
      "안녕\n",
      "잘가\n",
      "뭐해\n",
      "\n",
      "\n",
      "안녕\n",
      "잘가\n",
      "뭐해\n",
      "\n",
      "\n"
     ]
    }
   ],
   "source": [
    "def print_timea(*values, n=3):\n",
    "    for i in range(n):\n",
    "        for value in values:\n",
    "            print(value)\n",
    "        print(\"\\n\")\n",
    "\n",
    "print_timea(\"안녕\", \"잘가\", \"뭐해\", n=4)"
   ]
  },
  {
   "cell_type": "markdown",
   "id": "ab5c4495",
   "metadata": {},
   "source": [
    "### 기본 매개변수 중에서 필요한 값만 입력하기"
   ]
  },
  {
   "cell_type": "code",
   "execution_count": 24,
   "id": "d809ddb8",
   "metadata": {},
   "outputs": [
    {
     "name": "stdout",
     "output_type": "stream",
     "text": [
      "60\n",
      "310\n",
      "310\n",
      "220\n"
     ]
    }
   ],
   "source": [
    "def test(a, b=10, c=100):\n",
    "    print(a + b + c)\n",
    "\n",
    "test(10, 20 ,30)\n",
    "test(a=10, b=100, c=200)\n",
    "test(c=10, a=100, b=200)\n",
    "test(10, c=200)"
   ]
  },
  {
   "cell_type": "markdown",
   "id": "659146ea",
   "metadata": {},
   "source": [
    "## 리턴"
   ]
  },
  {
   "cell_type": "code",
   "execution_count": 27,
   "id": "2d198c50",
   "metadata": {},
   "outputs": [
    {
     "name": "stdout",
     "output_type": "stream",
     "text": [
      "> 10\n"
     ]
    }
   ],
   "source": [
    "value = input(\"> \")\n",
    "\n",
    "#print(value)"
   ]
  },
  {
   "cell_type": "markdown",
   "id": "bff1439c",
   "metadata": {},
   "source": [
    "## 기본적인 함수의 활용"
   ]
  },
  {
   "cell_type": "code",
   "execution_count": 33,
   "id": "8b6090c9",
   "metadata": {},
   "outputs": [
    {
     "name": "stdout",
     "output_type": "stream",
     "text": [
      "0+...+100 = 5050\n",
      "0+...+1000 = 500500\n",
      "50+...+100 = 3825\n",
      "500+...+1000 = 375750\n"
     ]
    }
   ],
   "source": [
    "def sum_all(start, end):\n",
    "    output = 0\n",
    "    \n",
    "    for i in range(start, end+1):\n",
    "        output += i;\n",
    "    \n",
    "    return output\n",
    "\n",
    "print(\"0+...+100 =\", sum_all(0, 100))\n",
    "print(\"0+...+1000 =\", sum_all(0, 1000))\n",
    "print(\"50+...+100 =\", sum_all(50, 100))\n",
    "print(\"500+...+1000 =\", sum_all(500, 1000))"
   ]
  },
  {
   "cell_type": "code",
   "execution_count": 56,
   "id": "40557ecd",
   "metadata": {},
   "outputs": [
    {
     "name": "stdout",
     "output_type": "stream",
     "text": [
      "3150\n"
     ]
    }
   ],
   "source": [
    "def mul_all(*values):\n",
    "    mul = 1\n",
    "    \n",
    "    for value in values:\n",
    "        mul *= value\n",
    "    \n",
    "    return mul\n",
    "\n",
    "print(mul_all(5, 7, 9, 10))"
   ]
  },
  {
   "cell_type": "markdown",
   "id": "7daed035",
   "metadata": {},
   "source": [
    "## 5-2 함수의 활용"
   ]
  },
  {
   "cell_type": "markdown",
   "id": "adbf775a",
   "metadata": {},
   "source": [
    "## 재귀 함수"
   ]
  },
  {
   "cell_type": "markdown",
   "id": "7f060f71",
   "metadata": {},
   "source": [
    "### 반복문으로 팩토리얼 구하기"
   ]
  },
  {
   "cell_type": "code",
   "execution_count": 3,
   "id": "7e55639f",
   "metadata": {},
   "outputs": [
    {
     "name": "stdout",
     "output_type": "stream",
     "text": [
      "120\n"
     ]
    }
   ],
   "source": [
    "sum = 1\n",
    "\n",
    "for i in range(1, 6):\n",
    "    sum *= i\n",
    "\n",
    "print(sum)"
   ]
  },
  {
   "cell_type": "code",
   "execution_count": 1,
   "id": "899346ee",
   "metadata": {},
   "outputs": [
    {
     "name": "stdout",
     "output_type": "stream",
     "text": [
      "1! =  1\n",
      "2! =  2\n",
      "3! =  6\n",
      "4! =  24\n",
      "5! =  120\n"
     ]
    }
   ],
   "source": [
    "def fac(n):\n",
    "    \n",
    "    sum = 1\n",
    "    \n",
    "    for n in range(1, n+1):\n",
    "        sum *= n\n",
    "    \n",
    "    return sum\n",
    "\n",
    "print(\"1! = \", fac(1))\n",
    "print(\"2! = \", fac(2))\n",
    "print(\"3! = \", fac(3))\n",
    "print(\"4! = \", fac(4))\n",
    "print(\"5! = \", fac(5))"
   ]
  },
  {
   "cell_type": "markdown",
   "id": "d2510118",
   "metadata": {},
   "source": [
    "### 재귀함수로 팩토리얼 구하기"
   ]
  },
  {
   "cell_type": "code",
   "execution_count": 43,
   "id": "b4a1cb02",
   "metadata": {},
   "outputs": [
    {
     "name": "stdout",
     "output_type": "stream",
     "text": [
      "fac =  120\n"
     ]
    }
   ],
   "source": [
    "def fac_recursion(n):\n",
    "    \n",
    "    if n <= 1:\n",
    "        return 1\n",
    "    else:\n",
    "        return fac_recursion(n-1) * n\n",
    "\n",
    "print(\"fac = \", fac_recursion(5))"
   ]
  },
  {
   "cell_type": "markdown",
   "id": "826659b1",
   "metadata": {},
   "source": [
    "### 재귀함수로 피보나치 수열 구하기"
   ]
  },
  {
   "cell_type": "code",
   "execution_count": 51,
   "id": "c97905dd",
   "metadata": {},
   "outputs": [
    {
     "name": "stdout",
     "output_type": "stream",
     "text": [
      "fibo =  9227465\n"
     ]
    }
   ],
   "source": [
    "def fibo(n):\n",
    "    \n",
    "    if n <= 2:\n",
    "        return 1\n",
    "    else:\n",
    "        return fibo(n-1) + fibo(n-2)\n",
    "\n",
    "print(\"fibo = \", fibo(35))"
   ]
  },
  {
   "cell_type": "markdown",
   "id": "ef0adfa5",
   "metadata": {},
   "source": [
    "### 메모화를 사용한 피보나치 수열 구하기"
   ]
  },
  {
   "cell_type": "code",
   "execution_count": 92,
   "id": "f95551b7",
   "metadata": {},
   "outputs": [
    {
     "name": "stdout",
     "output_type": "stream",
     "text": [
      "fibo =  21\n"
     ]
    },
    {
     "data": {
      "text/plain": [
       "{1: 1, 2: 2, 8: 21}"
      ]
     },
     "execution_count": 92,
     "metadata": {},
     "output_type": "execute_result"
    }
   ],
   "source": [
    "dict = {\n",
    "    1 : 1,\n",
    "    2 : 2\n",
    "}\n",
    "\n",
    "def fibo_dict(n):\n",
    "    \n",
    "    if n in dict:\n",
    "        return dict[n]\n",
    "    else:\n",
    "        res = fibo(n-1) + fibo(n-2)\n",
    "        dict[n] = res\n",
    "        return res\n",
    "\n",
    "print(\"fibo = \", fibo_dict(8))\n",
    "dict"
   ]
  },
  {
   "cell_type": "code",
   "execution_count": null,
   "id": "9a054772",
   "metadata": {},
   "outputs": [],
   "source": []
  }
 ],
 "metadata": {
  "kernelspec": {
   "display_name": "Python 3 (ipykernel)",
   "language": "python",
   "name": "python3"
  },
  "language_info": {
   "codemirror_mode": {
    "name": "ipython",
    "version": 3
   },
   "file_extension": ".py",
   "mimetype": "text/x-python",
   "name": "python",
   "nbconvert_exporter": "python",
   "pygments_lexer": "ipython3",
   "version": "3.9.13"
  }
 },
 "nbformat": 4,
 "nbformat_minor": 5
}
