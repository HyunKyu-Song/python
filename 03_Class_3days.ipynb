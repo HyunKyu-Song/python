{
 "cells": [
  {
   "cell_type": "markdown",
   "id": "8146a137",
   "metadata": {},
   "source": [
    "# 수업(3/10)"
   ]
  },
  {
   "cell_type": "markdown",
   "id": "28552566",
   "metadata": {},
   "source": [
    "### 딕셔너리 함수"
   ]
  },
  {
   "cell_type": "markdown",
   "id": "250a4cf9",
   "metadata": {},
   "source": [
    "#### keys(), values() 함수"
   ]
  },
  {
   "cell_type": "code",
   "execution_count": 3,
   "id": "fc60e708",
   "metadata": {},
   "outputs": [
    {
     "name": "stdout",
     "output_type": "stream",
     "text": [
      "dict_keys(['name', 'age', 'birth'])\n",
      "dict_values(['Song', 25, '0331'])\n"
     ]
    }
   ],
   "source": [
    "dict = {\"name\":\"Song\", \"age\":25, \"birth\":\"0331\"}\n",
    "print(dict.keys())\n",
    "print(dict.values())"
   ]
  },
  {
   "cell_type": "markdown",
   "id": "13f456bc",
   "metadata": {},
   "source": [
    "### item(), clear() 함수"
   ]
  },
  {
   "cell_type": "code",
   "execution_count": 5,
   "id": "ff57275b",
   "metadata": {},
   "outputs": [
    {
     "data": {
      "text/plain": [
       "dict_items([('name', 'Song'), ('age', 25), ('birth', '0331')])"
      ]
     },
     "execution_count": 5,
     "metadata": {},
     "output_type": "execute_result"
    }
   ],
   "source": [
    "dict.items()"
   ]
  },
  {
   "cell_type": "code",
   "execution_count": 6,
   "id": "5c3063d6",
   "metadata": {},
   "outputs": [
    {
     "name": "stdout",
     "output_type": "stream",
     "text": [
      "True\n"
     ]
    }
   ],
   "source": [
    "print(\"age\" in dict)"
   ]
  },
  {
   "cell_type": "code",
   "execution_count": 7,
   "id": "c72df043",
   "metadata": {},
   "outputs": [
    {
     "name": "stdout",
     "output_type": "stream",
     "text": [
      "{}\n"
     ]
    }
   ],
   "source": [
    "dict.clear()\n",
    "print(dict)"
   ]
  },
  {
   "cell_type": "markdown",
   "id": "0d8b9372",
   "metadata": {},
   "source": [
    "### 집합 (set)"
   ]
  },
  {
   "cell_type": "code",
   "execution_count": 10,
   "id": "879e0799",
   "metadata": {},
   "outputs": [],
   "source": [
    "#숫자는 오르차순, 문자는 랜덤으로 출력 (둘다 중복은 제거됨)"
   ]
  },
  {
   "cell_type": "code",
   "execution_count": 8,
   "id": "943d32cc",
   "metadata": {},
   "outputs": [
    {
     "name": "stdout",
     "output_type": "stream",
     "text": [
      "{1, 2, 3, 4, 5, 6, 7}\n"
     ]
    }
   ],
   "source": [
    "set1 = set([1, 3, 2, 7, 5, 4, 6, 3])\n",
    "print(set1)"
   ]
  },
  {
   "cell_type": "code",
   "execution_count": 9,
   "id": "54fafe16",
   "metadata": {},
   "outputs": [
    {
     "name": "stdout",
     "output_type": "stream",
     "text": [
      "{'o', 'h', ' ', 'r', 'd', '!', 'e', 'w', 'l'}\n"
     ]
    }
   ],
   "source": [
    "set2 = set(\"hello world!\")\n",
    "print(set2)"
   ]
  },
  {
   "cell_type": "code",
   "execution_count": 12,
   "id": "fa603b0b",
   "metadata": {},
   "outputs": [],
   "source": [
    "# 교집합(&), 합집합(|), 차집합(-)"
   ]
  },
  {
   "cell_type": "code",
   "execution_count": 11,
   "id": "1a439cad",
   "metadata": {},
   "outputs": [
    {
     "name": "stdout",
     "output_type": "stream",
     "text": [
      "{5, 6, 7}\n",
      "{1, 2, 3, 4, 5, 6, 7, 8, 9, 10, 11}\n",
      "{1, 2, 3, 4}\n",
      "{8, 9, 10, 11}\n"
     ]
    }
   ],
   "source": [
    "set1 = set([1, 2, 3, 4, 5, 6, 7])\n",
    "set2 = set([5, 6, 7, 8, 9, 10, 11])\n",
    "print(set1 & set2)\n",
    "print(set1 | set2)\n",
    "print(set1 - set2)\n",
    "print(set2 - set1)"
   ]
  },
  {
   "cell_type": "code",
   "execution_count": 14,
   "id": "fa9a11a8",
   "metadata": {},
   "outputs": [],
   "source": [
    "#add() - 추가, update() - 여러 개의 데이터 추가, remove() - 특정 데이터 삭제"
   ]
  },
  {
   "cell_type": "code",
   "execution_count": 15,
   "id": "35d59fae",
   "metadata": {},
   "outputs": [
    {
     "data": {
      "text/plain": [
       "{1, 2, 3, 7, 10}"
      ]
     },
     "execution_count": 15,
     "metadata": {},
     "output_type": "execute_result"
    }
   ],
   "source": [
    "set1 = set([1, 2, 7, 10])\n",
    "set1.add(3)\n",
    "set1"
   ]
  },
  {
   "cell_type": "code",
   "execution_count": 16,
   "id": "2b5050f0",
   "metadata": {},
   "outputs": [
    {
     "data": {
      "text/plain": [
       "{1, 2, 3, 6, 7, 8, 10}"
      ]
     },
     "execution_count": 16,
     "metadata": {},
     "output_type": "execute_result"
    }
   ],
   "source": [
    "set1.update([6, 8])\n",
    "set1"
   ]
  },
  {
   "cell_type": "code",
   "execution_count": 17,
   "id": "6061af0d",
   "metadata": {},
   "outputs": [
    {
     "data": {
      "text/plain": [
       "{1, 2, 3, 7, 8, 10}"
      ]
     },
     "execution_count": 17,
     "metadata": {},
     "output_type": "execute_result"
    }
   ],
   "source": [
    "set1.remove(6)\n",
    "set1"
   ]
  },
  {
   "cell_type": "markdown",
   "id": "3c1095c3",
   "metadata": {},
   "source": [
    "# chapter 03 제어문과 함수"
   ]
  },
  {
   "cell_type": "markdown",
   "id": "932e89b8",
   "metadata": {},
   "source": [
    "## 3.1 제어문"
   ]
  },
  {
   "cell_type": "markdown",
   "id": "9eb2aad1",
   "metadata": {},
   "source": [
    "### if 문으로 짝수/홀수 판단하기"
   ]
  },
  {
   "cell_type": "code",
   "execution_count": 18,
   "id": "d949ba74",
   "metadata": {},
   "outputs": [
    {
     "name": "stdout",
     "output_type": "stream",
     "text": [
      "x는 홀수입니다.\n"
     ]
    }
   ],
   "source": [
    "x = 3\n",
    "if(x % 2 == 0):\n",
    "    print(\"x는 짝수입니다.\")\n",
    "else:\n",
    "    print(\"x는 홀수입니다.\")"
   ]
  },
  {
   "cell_type": "code",
   "execution_count": 22,
   "id": "346ea7fb",
   "metadata": {},
   "outputs": [
    {
     "name": "stdout",
     "output_type": "stream",
     "text": [
      "카즈하는 멤버임\n"
     ]
    }
   ],
   "source": [
    "르세라핌 = [\"사쿠라\", \"채원\", \"윤진\", \"카즈하\", \"은채\"]\n",
    "member = \"카즈하\"\n",
    "\n",
    "if member in 르세라핌:\n",
    "    print(member + \"는 멤버임\")\n",
    "else:\n",
    "    print(member + \"는 멤버가 아님\")"
   ]
  },
  {
   "cell_type": "markdown",
   "id": "85592301",
   "metadata": {},
   "source": [
    "### while 문"
   ]
  },
  {
   "cell_type": "code",
   "execution_count": 24,
   "id": "3a6db461",
   "metadata": {},
   "outputs": [
    {
     "name": "stdout",
     "output_type": "stream",
     "text": [
      "5050\n"
     ]
    }
   ],
   "source": [
    "i = 1\n",
    "sum = 0\n",
    "\n",
    "while(i <= 100):\n",
    "    sum += i;\n",
    "    i += 1;\n",
    "\n",
    "print(sum)"
   ]
  },
  {
   "cell_type": "markdown",
   "id": "c92c133d",
   "metadata": {},
   "source": [
    "### break 문"
   ]
  },
  {
   "cell_type": "code",
   "execution_count": 25,
   "id": "27b77528",
   "metadata": {},
   "outputs": [
    {
     "name": "stdout",
     "output_type": "stream",
     "text": [
      "15\n",
      "0\n",
      "6\n"
     ]
    }
   ],
   "source": [
    "egg = 5\n",
    "i = 1\n",
    "sum = 0\n",
    "\n",
    "while i <= 100:\n",
    "    sum += i;\n",
    "    i += 1;\n",
    "    egg -= 1;\n",
    "    \n",
    "    if egg == 0:\n",
    "        break\n",
    "\n",
    "print(sum)\n",
    "print(egg)\n",
    "print(i)"
   ]
  },
  {
   "cell_type": "markdown",
   "id": "a690568c",
   "metadata": {},
   "source": [
    "### continue 문"
   ]
  },
  {
   "cell_type": "code",
   "execution_count": 28,
   "id": "58c85129",
   "metadata": {},
   "outputs": [
    {
     "name": "stdout",
     "output_type": "stream",
     "text": [
      "1\n",
      "3\n",
      "5\n",
      "7\n",
      "9\n"
     ]
    }
   ],
   "source": [
    "i = 0\n",
    "\n",
    "while i < 10:\n",
    "    i += 1;\n",
    "    if i % 2 == 0:\n",
    "        continue\n",
    "    print(i)"
   ]
  },
  {
   "cell_type": "markdown",
   "id": "f24a9d1c",
   "metadata": {},
   "source": [
    "### for 문"
   ]
  },
  {
   "cell_type": "code",
   "execution_count": 29,
   "id": "e53936fd",
   "metadata": {},
   "outputs": [
    {
     "name": "stdout",
     "output_type": "stream",
     "text": [
      "사쿠라\n",
      "채원\n",
      "윤진\n",
      "카즈하\n",
      "은채\n"
     ]
    }
   ],
   "source": [
    "for i in 르세라핌:\n",
    "    print(i)"
   ]
  },
  {
   "cell_type": "markdown",
   "id": "abefb326",
   "metadata": {},
   "source": [
    "### range() 함수 활용"
   ]
  },
  {
   "cell_type": "code",
   "execution_count": 31,
   "id": "f96a0cb1",
   "metadata": {},
   "outputs": [
    {
     "name": "stdout",
     "output_type": "stream",
     "text": [
      "[1, 2, 3, 4, 5, 6, 7, 8, 9]\n",
      "[1, 3, 5, 7, 9]\n",
      "[10, 9, 8, 7, 6, 5, 4, 3, 2]\n"
     ]
    }
   ],
   "source": [
    "a = list(range(1, 10))\n",
    "b = list(range(1, 10, 2))\n",
    "c = list(range(10, 1, -1))\n",
    "\n",
    "print(a)\n",
    "print(b)\n",
    "print(c)"
   ]
  },
  {
   "cell_type": "code",
   "execution_count": 39,
   "id": "cf6a5bee",
   "metadata": {},
   "outputs": [
    {
     "name": "stdout",
     "output_type": "stream",
     "text": [
      "5050\n"
     ]
    }
   ],
   "source": [
    "sum = 0\n",
    "\n",
    "for i in range(1, 101):\n",
    "    sum += i\n",
    "\n",
    "print(sum)"
   ]
  },
  {
   "cell_type": "markdown",
   "id": "8ecdf68d",
   "metadata": {},
   "source": [
    "### 중첩 for 문"
   ]
  },
  {
   "cell_type": "code",
   "execution_count": 55,
   "id": "3d7d17b4",
   "metadata": {},
   "outputs": [
    {
     "name": "stdout",
     "output_type": "stream",
     "text": [
      "2 * 1 = 2 \t2 * 2 = 4 \t2 * 3 = 6 \t2 * 4 = 8 \t2 * 5 = 10 \t2 * 6 = 12 \t2 * 7 = 14 \t2 * 8 = 16 \t2 * 9 = 18 \t \n",
      "3 * 1 = 3 \t3 * 2 = 6 \t3 * 3 = 9 \t3 * 4 = 12 \t3 * 5 = 15 \t3 * 6 = 18 \t3 * 7 = 21 \t3 * 8 = 24 \t3 * 9 = 27 \t \n",
      "4 * 1 = 4 \t4 * 2 = 8 \t4 * 3 = 12 \t4 * 4 = 16 \t4 * 5 = 20 \t4 * 6 = 24 \t4 * 7 = 28 \t4 * 8 = 32 \t4 * 9 = 36 \t \n",
      "5 * 1 = 5 \t5 * 2 = 10 \t5 * 3 = 15 \t5 * 4 = 20 \t5 * 5 = 25 \t5 * 6 = 30 \t5 * 7 = 35 \t5 * 8 = 40 \t5 * 9 = 45 \t \n",
      "6 * 1 = 6 \t6 * 2 = 12 \t6 * 3 = 18 \t6 * 4 = 24 \t6 * 5 = 30 \t6 * 6 = 36 \t6 * 7 = 42 \t6 * 8 = 48 \t6 * 9 = 54 \t \n",
      "7 * 1 = 7 \t7 * 2 = 14 \t7 * 3 = 21 \t7 * 4 = 28 \t7 * 5 = 35 \t7 * 6 = 42 \t7 * 7 = 49 \t7 * 8 = 56 \t7 * 9 = 63 \t \n",
      "8 * 1 = 8 \t8 * 2 = 16 \t8 * 3 = 24 \t8 * 4 = 32 \t8 * 5 = 40 \t8 * 6 = 48 \t8 * 7 = 56 \t8 * 8 = 64 \t8 * 9 = 72 \t \n",
      "9 * 1 = 9 \t9 * 2 = 18 \t9 * 3 = 27 \t9 * 4 = 36 \t9 * 5 = 45 \t9 * 6 = 54 \t9 * 7 = 63 \t9 * 8 = 72 \t9 * 9 = 81 \t \n"
     ]
    }
   ],
   "source": [
    "for x in range(2, 10):\n",
    "    for y in range(1, 10):\n",
    "        print(\"{} * {} = {}\".format(x, y, x*y), \"\\t\", end=\"\")\n",
    "    print(\" \")"
   ]
  },
  {
   "cell_type": "code",
   "execution_count": 10,
   "id": "36b9a1e2",
   "metadata": {},
   "outputs": [
    {
     "name": "stdout",
     "output_type": "stream",
     "text": [
      "*\n",
      "\n",
      "**\n",
      "\n",
      "***\n",
      "\n",
      "****\n",
      "\n",
      "*****\n",
      "\n",
      "******\n",
      "\n",
      "*******\n",
      "\n",
      "********\n",
      "\n",
      "*********\n",
      "\n"
     ]
    }
   ],
   "source": [
    "for i in range(1, 10):\n",
    "    for j in range(1, i+1):\n",
    "        print(\"*\", end=\"\")\n",
    "    print(\"\\n\")"
   ]
  },
  {
   "cell_type": "code",
   "execution_count": 1,
   "id": "0b7fcfbd",
   "metadata": {},
   "outputs": [
    {
     "name": "stdout",
     "output_type": "stream",
     "text": [
      "1번 학생 축하합니다.\n",
      "2번 학생 축하합니다.\n",
      "4번 학생 축하합니다.\n"
     ]
    }
   ],
   "source": [
    "scores = [(1, 83), (2, 66), (3,55), (4, 70), (5,50)]\n",
    "\n",
    "for num, score in scores:\n",
    "    if score < 60:\n",
    "        continue\n",
    "    print(\"%d번 학생 축하합니다.\" %num)"
   ]
  },
  {
   "cell_type": "markdown",
   "id": "f77017c1",
   "metadata": {},
   "source": [
    "## 3.2 함수와 클래스"
   ]
  },
  {
   "cell_type": "markdown",
   "id": "a2cecdb5",
   "metadata": {},
   "source": [
    "### 함수 만들기"
   ]
  },
  {
   "cell_type": "code",
   "execution_count": 56,
   "id": "32fc022f",
   "metadata": {},
   "outputs": [
    {
     "name": "stdout",
     "output_type": "stream",
     "text": [
      "110\n"
     ]
    }
   ],
   "source": [
    "def sum(a, b):\n",
    "    res = a + b\n",
    "    return res\n",
    "\n",
    "print(sum(10, 100))"
   ]
  },
  {
   "cell_type": "code",
   "execution_count": 57,
   "id": "8914a3b4",
   "metadata": {},
   "outputs": [
    {
     "name": "stdout",
     "output_type": "stream",
     "text": [
      "1\n",
      "2\n"
     ]
    }
   ],
   "source": [
    "a = 1\n",
    "\n",
    "def test(a):\n",
    "    a += 1\n",
    "    return a\n",
    "\n",
    "b = test(a)\n",
    "print(a)\n",
    "print(b)"
   ]
  }
 ],
 "metadata": {
  "kernelspec": {
   "display_name": "Python 3 (ipykernel)",
   "language": "python",
   "name": "python3"
  },
  "language_info": {
   "codemirror_mode": {
    "name": "ipython",
    "version": 3
   },
   "file_extension": ".py",
   "mimetype": "text/x-python",
   "name": "python",
   "nbconvert_exporter": "python",
   "pygments_lexer": "ipython3",
   "version": "3.9.13"
  }
 },
 "nbformat": 4,
 "nbformat_minor": 5
}
