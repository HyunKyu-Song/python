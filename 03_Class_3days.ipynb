{
 "cells": [
  {
   "cell_type": "markdown",
   "id": "8146a137",
   "metadata": {},
   "source": [
    "# 수업(3/10)"
   ]
  },
  {
   "cell_type": "markdown",
   "id": "28552566",
   "metadata": {},
   "source": [
    "### 딕셔너리 함수"
   ]
  },
  {
   "cell_type": "markdown",
   "id": "250a4cf9",
   "metadata": {},
   "source": [
    "#### keys(), values() 함수"
   ]
  },
  {
   "cell_type": "code",
   "execution_count": null,
   "id": "fc60e708",
   "metadata": {},
   "outputs": [],
   "source": []
  }
 ],
 "metadata": {
  "kernelspec": {
   "display_name": "Python 3 (ipykernel)",
   "language": "python",
   "name": "python3"
  },
  "language_info": {
   "codemirror_mode": {
    "name": "ipython",
    "version": 3
   },
   "file_extension": ".py",
   "mimetype": "text/x-python",
   "name": "python",
   "nbconvert_exporter": "python",
   "pygments_lexer": "ipython3",
   "version": "3.9.13"
  }
 },
 "nbformat": 4,
 "nbformat_minor": 5
}
